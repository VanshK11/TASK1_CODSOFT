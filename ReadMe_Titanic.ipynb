{
 "cells": [
  {
   "cell_type": "code",
   "execution_count": null,
   "id": "635946b2-08dc-441e-9cd7-d5c7a40cc992",
   "metadata": {},
   "outputs": [],
   "source": [
    "TITATIC SURVIVAL PREDICTION"
   ]
  },
  {
   "cell_type": "code",
   "execution_count": null,
   "id": "a8200394-1daa-490d-bbbb-6034627c1687",
   "metadata": {},
   "outputs": [],
   "source": [
    "NAME: VANSH KAKKAR"
   ]
  },
  {
   "cell_type": "code",
   "execution_count": null,
   "id": "b013b7e0-d4f5-46d6-8167-c3ea61fdc5c4",
   "metadata": {},
   "outputs": [],
   "source": [
    "BATCH: AUGUST"
   ]
  },
  {
   "cell_type": "code",
   "execution_count": null,
   "id": "a64f573f-c882-4a96-9474-4ecba62bde5a",
   "metadata": {},
   "outputs": [],
   "source": [
    "DATA SCIENCE INTERNSHIP"
   ]
  },
  {
   "cell_type": "code",
   "execution_count": null,
   "id": "148094ea-0746-45aa-ba03-b5560a85acbf",
   "metadata": {},
   "outputs": [],
   "source": [
    "AIM:\n",
    "The Aim Of This Project Is To Build A Model That Predicts Whether A Passengers On The Titanic Survived Or Not."
   ]
  },
  {
   "cell_type": "code",
   "execution_count": null,
   "id": "622064ce-5f45-45e9-81e1-59ffb696d8af",
   "metadata": {},
   "outputs": [],
   "source": [
    "DATASET:\n",
    "The Dataset For This Project Is Imported From CSV File. \n",
    "The Dataset Contains Information About Passengers On The Titanic, Including Their Survival Status, Class, Sex, Age."
   ]
  },
  {
   "cell_type": "code",
   "execution_count": null,
   "id": "87471802-41c8-484a-a2e5-a7ab9708c21c",
   "metadata": {},
   "outputs": [],
   "source": [
    "LIBRARIES USED:\n",
    "The Following Important Libraries Were Used For This Project:\n",
    "- numpy\n",
    "- pandas\n",
    "- matplotlib.pyplot\n",
    "- seaborn\n",
    "- sklearn.preprocessing.labelencoder\n",
    "- sklearn.model_selection.train_test_split\n",
    "-sklearn.linear_model.logisticregression"
   ]
  },
  {
   "cell_type": "code",
   "execution_count": null,
   "id": "a08bf7bc-416c-4345-8843-f3fb55d21eba",
   "metadata": {},
   "outputs": [],
   "source": [
    "DATA EXPLORATION AND PREPROCESSING\n",
    "- The Dataset Was Loaded Using pandas As A DataFrame, And Its Shape And Glimpse Of The First 11 Rows Were Displayed Using `df.shape` and `df.head(11)`.\n",
    "- Descriptive Statistics For The Numerical Columns Were Displayed Using `df.describe()` To Get An Overview Of The Data, Including Missing Values.\n",
    "- The Count Of Passengers Who Survived And Those Who Did Not Was Visualized Using `sns.countplot(x=df['Survived'])`.\n",
    "- The Count Of Survivals Was Visualized With Respect To The Pclass Using `sns.countplot(x=df['Survived'], hue=df['Pclass'])`.\n",
    "- The Count Of Survivals Was Visualized With Respect To The Gender Using `sns.countplot(x=df['Sex'], hue=df['Survived'])`.\n",
    "- The Survival Rate By Gender Was Calculated And Displayed Using `df.groupby('Sex')[['Survived']].mean()`.\n",
    "- The 'Sex' Column Was Converted From Categorical To Numerical Values Using LabelEncoder From `sklearn.preprocessing`.\n",
    "- After Encoding The 'Sex' Column, Non-Required Columns Like 'Age' Were Dropped From The DataFrame."
   ]
  },
  {
   "cell_type": "code",
   "execution_count": null,
   "id": "a976140e-7d40-42a4-9bc6-2b9af6d2f215",
   "metadata": {},
   "outputs": [],
   "source": [
    "MODEL TRAINING\n",
    "- The Feature Matrix `X` And Target Vector `Y` Were Created Using Relevant Columns From The DataFrame.\n",
    "- The Dataset Was Split Into Training And Testing Sets Using `train_test_split` From `sklearn.model_selection`.\n",
    "- A Logistic Regression Model Was Initialized And Trained On The Training Data Using `LogisticRegression` From `sklearn.linear_model`."
   ]
  },
  {
   "cell_type": "code",
   "execution_count": null,
   "id": "2cc6a152-c022-42ae-a75a-cee782620029",
   "metadata": {},
   "outputs": [],
   "source": [
    "MODEL PREDICTION\n",
    "- The Model Was Used To Predict The Survival Status Of Passengers In The test Set.\n",
    "- The Predicted Results Were Printed Using `log.predict(X_test)`.\n",
    "- The Actual Target Values In The Test Set Were Printed Using `Y_test`.\n",
    "- A Sample Prediction Was Made Using `log.predict([[3, 1]])` With Pclass=2 And Sex=Male (1)."
   ]
  }
 ],
 "metadata": {
  "kernelspec": {
   "display_name": "Python 3 (ipykernel)",
   "language": "python",
   "name": "python3"
  },
  "language_info": {
   "codemirror_mode": {
    "name": "ipython",
    "version": 3
   },
   "file_extension": ".py",
   "mimetype": "text/x-python",
   "name": "python",
   "nbconvert_exporter": "python",
   "pygments_lexer": "ipython3",
   "version": "3.12.4"
  }
 },
 "nbformat": 4,
 "nbformat_minor": 5
}
